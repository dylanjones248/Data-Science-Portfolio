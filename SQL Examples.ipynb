{
 "cells": [
  {
   "cell_type": "markdown",
   "id": "ff45d098-3b18-40be-9b06-b392b4709122",
   "metadata": {},
   "source": [
    "Write a query to calculate the year-on-year growth rate for the total spend of each product, grouping the results by product ID."
   ]
  },
  {
   "cell_type": "code",
   "execution_count": null,
   "id": "3b4adcef-7648-40e8-9563-af1a82f56f63",
   "metadata": {},
   "outputs": [],
   "source": [
    "WITH cte AS (\n",
    "  SELECT EXTRACT(year from transaction_date) as year\n",
    "        , product_id\n",
    "        , SUM(spend) as curr_year_spend\n",
    "  FROM user_transactions\n",
    "  GROUP BY 1, 2\n",
    "  ORDER BY 2, 1\n",
    "),\n",
    "spend_variance AS (\n",
    "  SELECT *\n",
    "        , LAG(curr_year_spend, 1) OVER(\n",
    "              PARTITION BY product_id\n",
    "              ORDER BY year, product_id) as prev_year_spend\n",
    "  FROM cte)\n",
    "\n",
    "SELECT *\n",
    "  , ROUND((curr_year_spend / prev_year_spend - 1) * 100, 2) as yoy_change\n",
    "FROM spend_variance;"
   ]
  },
  {
   "cell_type": "markdown",
   "id": "711f1461-f201-4c65-81de-f20db2a6cd95",
   "metadata": {},
   "source": [
    "Amazon wants to maximize the number of items it can stock in a 500,000 square feet warehouse. It wants to stock as many prime items as possible, and afterwards use the remaining square footage to stock the most number of non-prime items.\n",
    "\n",
    "Write a query to find the number of prime and non-prime items that can be stored in the 500,000 square feet warehouse. "
   ]
  },
  {
   "cell_type": "code",
   "execution_count": null,
   "id": "dd3e8a0d-4916-4ae1-aba9-2440807f593d",
   "metadata": {},
   "outputs": [],
   "source": [
    "WITH summary AS (  \n",
    "  SELECT DISTINCT(item_type)\n",
    "        , COUNT(item_id) as item_count\n",
    "        , SUM(square_footage) as total_sf\n",
    "  FROM inventory\n",
    "  GROUP BY 1\n",
    "),  \n",
    "prime_space AS (\n",
    "  SELECT *\n",
    "      , FLOOR(500000 / total_sf) as prime_eligible_space\n",
    "      , FLOOR(500000 / total_sf) * item_count as prime_eligible_count\n",
    "  FROM summary\n",
    "  WHERE item_type = 'prime_eligible'\n",
    ")\n",
    "\n",
    "SELECT item_type\n",
    "      , CASE\n",
    "          WHEN item_type = 'prime_eligible'\n",
    "            THEN (floor(500000 / total_sf) * item_count)\n",
    "          WHEN item_type = 'not_prime'\n",
    "            THEN FLOOR((500000 -\n",
    "              (SELECT prime_eligible_space * total_sf FROM prime_space))\n",
    "              / total_sf)\n",
    "              * item_count\n",
    "        END AS item_count\n",
    "FROM summary\n",
    "ORDER BY item_type desc;"
   ]
  },
  {
   "cell_type": "markdown",
   "id": "c5cae38d-446a-4b81-ba85-afe9da760072",
   "metadata": {},
   "source": [
    "Your team at JPMorgan Chase is soon launching a new credit card. You are asked to estimate how many cards you'll issue in the first month.\n",
    "\n",
    "Before you can answer this question, you want to first get some perspective on how well new credit card launches typically do in their first month.\n",
    "\n",
    "Write a query that outputs the name of the credit card, and how many cards were issued in its launch month."
   ]
  },
  {
   "cell_type": "code",
   "execution_count": null,
   "id": "5f072b14-709f-492f-bcae-f7f32da86033",
   "metadata": {},
   "outputs": [],
   "source": [
    "WITH cte AS (\n",
    "  SELECT card_name\n",
    "        , issued_amount\n",
    "        , MAKE_DATE(issue_year, issue_month, 1) as date\n",
    "        , MIN(MAKE_DATE(issue_year, issue_month, 1)) OVER(PARTITION BY card_name) as launch_date\n",
    "  FROM monthly_cards_issued\n",
    ")\n",
    "\n",
    "SELECT card_name\n",
    "      , issued_amount\n",
    "FROM cte\n",
    "WHERE date = launch_date\n",
    "ORDER BY issued_amount desc;"
   ]
  },
  {
   "cell_type": "markdown",
   "id": "c7eff12e-e810-4c6c-bff9-3c57d535daf7",
   "metadata": {},
   "source": [
    "A phone call is considered an international call when the person calling is in a different country than the person receiving the call.\n",
    "\n",
    "What percentage of phone calls are international?"
   ]
  },
  {
   "cell_type": "code",
   "execution_count": null,
   "id": "6d2c161e-d97e-45d9-bfcc-48aa3d4e8f8d",
   "metadata": {},
   "outputs": [],
   "source": [
    "SELECT  \n",
    "      ROUND(\n",
    "      100.0 * SUM(CASE WHEN pi.country_id <> pi2.country_id THEN 1 END)\n",
    "        / COUNT(*), 1) as international_calls_pct\n",
    "FROM phone_calls pc\n",
    "JOIN phone_info pi\n",
    "  ON pc.caller_id = pi.caller_id\n",
    "JOIN phone_info pi2\n",
    "  ON pc.receiver_id = pi2.caller_id;"
   ]
  },
  {
   "cell_type": "markdown",
   "id": "b5ec1d5e-5f27-4ad4-8204-c87df54018cb",
   "metadata": {},
   "source": [
    "Given a table of tweet data over a specified time period, calculate the 3-day rolling average of tweets for each user. Output the user ID, tweet date, and rolling averages rounded to 2 decimal places."
   ]
  },
  {
   "cell_type": "code",
   "execution_count": null,
   "id": "28e486dd-c07b-43fd-a043-ed4343d85b0a",
   "metadata": {},
   "outputs": [],
   "source": [
    "SELECT user_id\n",
    "      , tweet_date\n",
    "      , ROUND(AVG(tweet_count) OVER(\n",
    "          PARTITION BY user_id \n",
    "          ORDER BY tweet_date \n",
    "          ROWS BETWEEN 2 PRECEDING AND CURRENT ROW)\n",
    "        , 2) as rolling_3d_avg\n",
    "FROM tweets;"
   ]
  }
 ],
 "metadata": {
  "kernelspec": {
   "display_name": "Python 3 (ipykernel)",
   "language": "python",
   "name": "python3"
  },
  "language_info": {
   "codemirror_mode": {
    "name": "ipython",
    "version": 3
   },
   "file_extension": ".py",
   "mimetype": "text/x-python",
   "name": "python",
   "nbconvert_exporter": "python",
   "pygments_lexer": "ipython3",
   "version": "3.10.7"
  }
 },
 "nbformat": 4,
 "nbformat_minor": 5
}
