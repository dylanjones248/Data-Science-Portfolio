{
 "cells": [
  {
   "cell_type": "code",
   "execution_count": 3,
   "id": "c8d94c95-16a0-40a1-815d-e84ab1271c52",
   "metadata": {},
   "outputs": [],
   "source": [
    "import pandas as pd\n",
    "import numpy as np\n",
    "import matplotlib.pyplot as plt\n",
    "import seaborn as sns\n",
    "import os"
   ]
  },
  {
   "cell_type": "markdown",
   "id": "22b68110-d429-40ac-958b-f78305717ebe",
   "metadata": {},
   "source": [
    "Import CSV file"
   ]
  },
  {
   "cell_type": "code",
   "execution_count": 4,
   "id": "40b08ceb-783a-489e-81c5-af7751121c73",
   "metadata": {},
   "outputs": [
    {
     "data": {
      "text/plain": [
       "'/Users/dylanjones'"
      ]
     },
     "execution_count": 4,
     "metadata": {},
     "output_type": "execute_result"
    }
   ],
   "source": [
    "os.getcwd()"
   ]
  },
  {
   "cell_type": "code",
   "execution_count": 4,
   "id": "dc944726-e17a-4218-aeff-b2461af0801d",
   "metadata": {},
   "outputs": [
    {
     "data": {
      "text/html": [
       "<div>\n",
       "<style scoped>\n",
       "    .dataframe tbody tr th:only-of-type {\n",
       "        vertical-align: middle;\n",
       "    }\n",
       "\n",
       "    .dataframe tbody tr th {\n",
       "        vertical-align: top;\n",
       "    }\n",
       "\n",
       "    .dataframe thead th {\n",
       "        text-align: right;\n",
       "    }\n",
       "</style>\n",
       "<table border=\"1\" class=\"dataframe\">\n",
       "  <thead>\n",
       "    <tr style=\"text-align: right;\">\n",
       "      <th></th>\n",
       "      <th>Name</th>\n",
       "      <th>Year</th>\n",
       "      <th>Miles</th>\n",
       "      <th>Price</th>\n",
       "    </tr>\n",
       "  </thead>\n",
       "  <tbody>\n",
       "    <tr>\n",
       "      <th>0</th>\n",
       "      <td>Chevrolet Trax</td>\n",
       "      <td>2018</td>\n",
       "      <td>41946</td>\n",
       "      <td>16990</td>\n",
       "    </tr>\n",
       "    <tr>\n",
       "      <th>1</th>\n",
       "      <td>GMC Terrain</td>\n",
       "      <td>2020</td>\n",
       "      <td>45328</td>\n",
       "      <td>23990</td>\n",
       "    </tr>\n",
       "    <tr>\n",
       "      <th>2</th>\n",
       "      <td>Jeep Wrangler</td>\n",
       "      <td>2012</td>\n",
       "      <td>81068</td>\n",
       "      <td>21590</td>\n",
       "    </tr>\n",
       "    <tr>\n",
       "      <th>3</th>\n",
       "      <td>Jeep Renegade</td>\n",
       "      <td>2019</td>\n",
       "      <td>35372</td>\n",
       "      <td>21590</td>\n",
       "    </tr>\n",
       "    <tr>\n",
       "      <th>4</th>\n",
       "      <td>BMW X</td>\n",
       "      <td>20173</td>\n",
       "      <td>68992</td>\n",
       "      <td>22990</td>\n",
       "    </tr>\n",
       "  </tbody>\n",
       "</table>\n",
       "</div>"
      ],
      "text/plain": [
       "              Name   Year  Miles  Price\n",
       "0   Chevrolet Trax   2018  41946  16990\n",
       "1      GMC Terrain   2020  45328  23990\n",
       "2    Jeep Wrangler   2012  81068  21590\n",
       "3    Jeep Renegade   2019  35372  21590\n",
       "4            BMW X  20173  68992  22990"
      ]
     },
     "execution_count": 4,
     "metadata": {},
     "output_type": "execute_result"
    }
   ],
   "source": [
    "car_data = pd.read_csv('Data-Science-Portfolio/Data/carvana.csv')\n",
    "\n",
    "car_data.head()"
   ]
  },
  {
   "cell_type": "code",
   "execution_count": null,
   "id": "0c94ea97-d033-49a2-b213-28230fba2fd7",
   "metadata": {},
   "outputs": [],
   "source": [
    "car_data.info()"
   ]
  },
  {
   "cell_type": "code",
   "execution_count": null,
   "id": "77f856aa-b7c5-4714-848d-44e5e6ef7106",
   "metadata": {},
   "outputs": [],
   "source": [
    "car_data.describe()"
   ]
  },
  {
   "cell_type": "code",
   "execution_count": null,
   "id": "12e02dfb-cb60-4853-a430-4eaee06307e2",
   "metadata": {},
   "outputs": [],
   "source": [
    "num_car_types = car_data['Name'].unique()\n",
    "len(num_car_types)"
   ]
  },
  {
   "cell_type": "markdown",
   "id": "e032765b-b0c0-4384-b068-1a862a701c02",
   "metadata": {},
   "source": [
    "There are 416 unique make and model car combinations"
   ]
  },
  {
   "cell_type": "code",
   "execution_count": null,
   "id": "99aa8a49-3ee9-48e7-8d51-46f5d7983d3f",
   "metadata": {},
   "outputs": [],
   "source": [
    "# Clean data to remove errors in 'Year'\n",
    "car_data['Year'] = car_data['Year'].apply(lambda x: x if (x >= 2000 and x<= 2030) else np.nan)\n",
    "\n",
    "# Add 'Age' column\n",
    "car_data['Age'] = 2023 - car_data['Year']\n",
    "\n",
    "car_data.head()"
   ]
  },
  {
   "cell_type": "markdown",
   "id": "70fce29b-6d4f-405d-b2e0-0195a69ad6de",
   "metadata": {},
   "source": [
    "Show relationship between 'Age' and 'Price'"
   ]
  },
  {
   "cell_type": "code",
   "execution_count": null,
   "id": "861e82b8-9ba2-444c-a61f-5c5f6681c1aa",
   "metadata": {},
   "outputs": [],
   "source": [
    "fig, ax = plt.subplots(figsize=(16,8))\n",
    "\n",
    "sns.boxplot(x='Age', y='Price', data=car_data)\n",
    "ax.set_title('Price by Age')\n",
    "ax.set_xlabel('Age')\n",
    "ax.set_ylabel('Price')"
   ]
  },
  {
   "cell_type": "markdown",
   "id": "e0285351-5d0a-4eb7-9c86-cc8c038023c1",
   "metadata": {},
   "source": [
    "The data above shows the price declines over time. There are numberous positive outliers for most ages. As such, we will consider using the median price for each age when showing the price trend line below."
   ]
  },
  {
   "cell_type": "code",
   "execution_count": null,
   "id": "7199f1f9-b1b0-4a45-9199-09d4e07bd6af",
   "metadata": {},
   "outputs": [],
   "source": [
    "fig, ax = plt.subplots(figsize = (16, 8))\n",
    "x = car_data['Age']\n",
    "y = car_data['Price']\n",
    "\n",
    "# Plot car price by age\n",
    "plt.scatter(x, y)\n",
    "plt.xlabel('Age')\n",
    "plt.ylabel('Price')\n",
    "plt.title('Car Price by Age')\n",
    "\n",
    "# Draw line of mean price by age\n",
    "car_data_age1 = car_data.groupby(['Age'])['Price'].mean()\n",
    "car_data_age1.plot.line(color='red', marker='o')\n",
    "\n",
    "# Draw line of mean price by age\n",
    "car_data_age2 = car_data.groupby(['Age'])['Price'].median()\n",
    "car_data_age2.plot.line(color='green', marker='o')\n",
    "\n",
    "ax.legend(['Car Price', 'Mean Price', 'Median Price'])"
   ]
  },
  {
   "cell_type": "markdown",
   "id": "af3c7ad6-6921-4083-a183-fca257631aad",
   "metadata": {},
   "source": [
    "Consistent with the box plot chart, the above chart clearly shows a decline in price over time. The most significant decline occurs over the first two years of the cars life. The decline in price significantly slows after age 6 as shown by the flattening mean and median lines. Despite the positive outliers noted earlier, the mean and median are similar across all ages."
   ]
  },
  {
   "cell_type": "code",
   "execution_count": null,
   "id": "d77d7596-ab68-44cd-b6a2-d775fb784195",
   "metadata": {},
   "outputs": [],
   "source": [
    "corr = car_data['Age'].corr(car_data['Price'])\n",
    "\n",
    "corr"
   ]
  },
  {
   "cell_type": "markdown",
   "id": "348d9e7a-8442-4c3b-a8d5-52dedc9cc216",
   "metadata": {},
   "source": [
    "There is a moderate negative correlation between age and price, meaning as age increases price decreases."
   ]
  },
  {
   "cell_type": "code",
   "execution_count": null,
   "id": "507729d4-8618-4bb1-9a1a-f932ce79d4dd",
   "metadata": {},
   "outputs": [],
   "source": []
  }
 ],
 "metadata": {
  "kernelspec": {
   "display_name": "Python 3 (ipykernel)",
   "language": "python",
   "name": "python3"
  },
  "language_info": {
   "codemirror_mode": {
    "name": "ipython",
    "version": 3
   },
   "file_extension": ".py",
   "mimetype": "text/x-python",
   "name": "python",
   "nbconvert_exporter": "python",
   "pygments_lexer": "ipython3",
   "version": "3.10.7"
  }
 },
 "nbformat": 4,
 "nbformat_minor": 5
}
